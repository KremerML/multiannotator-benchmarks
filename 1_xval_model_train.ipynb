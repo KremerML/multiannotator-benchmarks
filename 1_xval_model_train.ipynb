{
 "cells": [
  {
   "cell_type": "markdown",
   "id": "861406e6",
   "metadata": {},
   "source": [
    "# This notebook trains a model with cross-val on the entire dataset\n",
    "- Gets pred_probs on holdout and saves results as numpy files\n",
    "- Make sure you run ``preprocess_data`` and ``create_labels_df`` on local and push/pull newest ``cifar10_test_consensus_dataset`` first"
   ]
  },
  {
   "cell_type": "code",
   "execution_count": 1,
   "id": "cd34358d",
   "metadata": {},
   "outputs": [],
   "source": [
    "%load_ext autoreload\n",
    "%autoreload 2\n",
    "\n",
    "import sys\n",
    "\n",
    "sys.path.insert(0, \"../\")\n",
    "\n",
    "import numpy as np\n",
    "import pandas as pd\n",
    "import pickle\n",
    "import datetime\n",
    "from pathlib import Path\n",
    "import cleanlab\n",
    "from utils.cross_validation_autogluon import cross_val_predict_autogluon_image_dataframe\n",
    "\n",
    "pd.set_option('display.max_rows', None) \n",
    "pd.set_option('display.max_columns', None)\n",
    "pd.set_option('display.max_colwidth', None)"
   ]
  },
  {
   "cell_type": "markdown",
   "id": "6f4af41e",
   "metadata": {},
   "source": [
    "## Load data"
   ]
  },
  {
   "cell_type": "code",
   "execution_count": 7,
   "id": "52251f3a",
   "metadata": {},
   "outputs": [
    {
     "data": {
      "text/html": [
       "<div>\n",
       "<style scoped>\n",
       "    .dataframe tbody tr th:only-of-type {\n",
       "        vertical-align: middle;\n",
       "    }\n",
       "\n",
       "    .dataframe tbody tr th {\n",
       "        vertical-align: top;\n",
       "    }\n",
       "\n",
       "    .dataframe thead th {\n",
       "        text-align: right;\n",
       "    }\n",
       "</style>\n",
       "<table border=\"1\" class=\"dataframe\">\n",
       "  <thead>\n",
       "    <tr style=\"text-align: right;\">\n",
       "      <th></th>\n",
       "      <th>label</th>\n",
       "      <th>image</th>\n",
       "    </tr>\n",
       "  </thead>\n",
       "  <tbody>\n",
       "    <tr>\n",
       "      <th>0</th>\n",
       "      <td>0</td>\n",
       "      <td>15</td>\n",
       "    </tr>\n",
       "    <tr>\n",
       "      <th>1</th>\n",
       "      <td>1</td>\n",
       "      <td>15</td>\n",
       "    </tr>\n",
       "    <tr>\n",
       "      <th>2</th>\n",
       "      <td>2</td>\n",
       "      <td>15</td>\n",
       "    </tr>\n",
       "    <tr>\n",
       "      <th>3</th>\n",
       "      <td>3</td>\n",
       "      <td>15</td>\n",
       "    </tr>\n",
       "    <tr>\n",
       "      <th>4</th>\n",
       "      <td>4</td>\n",
       "      <td>15</td>\n",
       "    </tr>\n",
       "    <tr>\n",
       "      <th>5</th>\n",
       "      <td>5</td>\n",
       "      <td>15</td>\n",
       "    </tr>\n",
       "    <tr>\n",
       "      <th>6</th>\n",
       "      <td>6</td>\n",
       "      <td>15</td>\n",
       "    </tr>\n",
       "    <tr>\n",
       "      <th>7</th>\n",
       "      <td>7</td>\n",
       "      <td>15</td>\n",
       "    </tr>\n",
       "    <tr>\n",
       "      <th>8</th>\n",
       "      <td>8</td>\n",
       "      <td>15</td>\n",
       "    </tr>\n",
       "    <tr>\n",
       "      <th>9</th>\n",
       "      <td>9</td>\n",
       "      <td>15</td>\n",
       "    </tr>\n",
       "  </tbody>\n",
       "</table>\n",
       "</div>"
      ],
      "text/plain": [
       "   label  image\n",
       "0      0     15\n",
       "1      1     15\n",
       "2      2     15\n",
       "3      3     15\n",
       "4      4     15\n",
       "5      5     15\n",
       "6      6     15\n",
       "7      7     15\n",
       "8      8     15\n",
       "9      9     15"
      ]
     },
     "execution_count": 7,
     "metadata": {},
     "output_type": "execute_result"
    }
   ],
   "source": [
    "# Load consensus test files\n",
    "data_filepath = './data/benchmark_data/cifar10_test_consensus_dataset.csv'\n",
    "df = pd.read_csv(data_filepath)\n",
    "\n",
    "# Create mini train dataset for testing\n",
    "num_from_each_group = 15\n",
    "mini_df = df.groupby(\"label\").head(num_from_each_group)\n",
    "mini_df.groupby(\"label\")[\"image\"].count().reset_index()"
   ]
  },
  {
   "cell_type": "markdown",
   "id": "3a1e1497",
   "metadata": {},
   "source": [
    "**Model and data saving params**"
   ]
  },
  {
   "cell_type": "code",
   "execution_count": 8,
   "id": "7b09f51a",
   "metadata": {},
   "outputs": [],
   "source": [
    "# save/load folders\n",
    "model_folder = './data/cifar10_consensus_worst_25_coin20' # + [model_type]\n",
    "\n",
    "# generate cross-validated predicted probabilities for various models\n",
    "models = [\n",
    "    \"timm/resnet18.a1_in1k\",\n",
    "    \"timm/swin_base_patch4_window7_224.ms_in22k_ft_in1k\"\n",
    "]\n",
    "\n",
    "# xvalidation parameters\n",
    "num_cv_folds = 5 # number K in stratified K-folds cross-validation\n",
    "verbose = 1 # verbose for dataloading duing crossval to numpy save\n",
    "\n",
    "# shared model parameters\n",
    "# epochs = 100 #100\n",
    "# holdout_frac = 0.2\n",
    "time_limit = 21600 #21600\n",
    "random_state = 123"
   ]
  },
  {
   "cell_type": "markdown",
   "id": "b541971a",
   "metadata": {},
   "source": [
    "## Run cross validation on `models`"
   ]
  },
  {
   "cell_type": "code",
   "execution_count": 9,
   "id": "3e793c24",
   "metadata": {},
   "outputs": [
    {
     "name": "stderr",
     "output_type": "stream",
     "text": [
      "Global seed set to 123\n"
     ]
    },
    {
     "name": "stdout",
     "output_type": "stream",
     "text": [
      "----\n",
      "Running cross-validation for model: timm/resnet18.a1_in1k\n",
      "----\n",
      "Running Cross-Validation on Split: 0\n"
     ]
    },
    {
     "data": {
      "application/vnd.jupyter.widget-view+json": {
       "model_id": "140a4de5ba034bd9a1be377a5f4d4e4a",
       "version_major": 2,
       "version_minor": 0
      },
      "text/plain": [
       "model.safetensors:   0%|          | 0.00/46.8M [00:00<?, ?B/s]"
      ]
     },
     "metadata": {},
     "output_type": "display_data"
    },
    {
     "name": "stderr",
     "output_type": "stream",
     "text": [
      "g:\\anaconda\\envs\\crowdsource\\lib\\site-packages\\huggingface_hub\\file_download.py:149: UserWarning: `huggingface_hub` cache-system uses symlinks by default to efficiently store duplicated files but your machine does not support them in C:\\Users\\kreme\\.cache\\huggingface\\hub\\models--timm--resnet18.a1_in1k. Caching files will still work but in a degraded version that might require more space on your disk. This warning can be disabled by setting the `HF_HUB_DISABLE_SYMLINKS_WARNING` environment variable. For more details, see https://huggingface.co/docs/huggingface_hub/how-to-cache#limitations.\n",
      "To support symlinks on Windows, you either need to activate Developer Mode or to run Python as an administrator. In order to see activate developer mode, see this article: https://docs.microsoft.com/en-us/windows/apps/get-started/enable-your-device-for-development\n",
      "  warnings.warn(message)\n",
      "g:\\anaconda\\envs\\crowdsource\\lib\\site-packages\\autogluon\\multimodal\\utils\\environment.py:131: UserWarning: Only CPU is detected in the instance. This may result in slow speed for MultiModalPredictor. Consider using an instance with GPU support.\n",
      "  warnings.warn(\n",
      "GPU available: False, used: False\n",
      "TPU available: False, using: 0 TPU cores\n",
      "IPU available: False, using: 0 IPUs\n",
      "HPU available: False, using: 0 HPUs\n",
      "\n",
      "  | Name              | Type                            | Params\n",
      "----------------------------------------------------------------------\n",
      "0 | model             | TimmAutoModelForImagePrediction | 11.2 M\n",
      "1 | validation_metric | MulticlassAccuracy              | 0     \n",
      "2 | loss_func         | CrossEntropyLoss                | 0     \n",
      "----------------------------------------------------------------------\n",
      "11.2 M    Trainable params\n",
      "0         Non-trainable params\n",
      "11.2 M    Total params\n",
      "44.727    Total estimated model params size (MB)\n"
     ]
    },
    {
     "data": {
      "application/vnd.jupyter.widget-view+json": {
       "model_id": "a94ab4303a7143e9916b60c44f53b8e8",
       "version_major": 2,
       "version_minor": 0
      },
      "text/plain": [
       "Sanity Checking: 0it [00:00, ?it/s]"
      ]
     },
     "metadata": {},
     "output_type": "display_data"
    },
    {
     "data": {
      "application/vnd.jupyter.widget-view+json": {
       "model_id": "1182e8717799499c8593c8408d9d8fb6",
       "version_major": 2,
       "version_minor": 0
      },
      "text/plain": [
       "Training: 0it [00:00, ?it/s]"
      ]
     },
     "metadata": {},
     "output_type": "display_data"
    },
    {
     "data": {
      "application/vnd.jupyter.widget-view+json": {
       "model_id": "2f69ea4eadce4b8f88db2f66bbb1f911",
       "version_major": 2,
       "version_minor": 0
      },
      "text/plain": [
       "Validation: 0it [00:00, ?it/s]"
      ]
     },
     "metadata": {},
     "output_type": "display_data"
    },
    {
     "data": {
      "application/vnd.jupyter.widget-view+json": {
       "model_id": "ffd097fbdf9040b68d46d30a0a53ae1d",
       "version_major": 2,
       "version_minor": 0
      },
      "text/plain": [
       "Validation: 0it [00:00, ?it/s]"
      ]
     },
     "metadata": {},
     "output_type": "display_data"
    },
    {
     "name": "stderr",
     "output_type": "stream",
     "text": [
      "Epoch 0, global step 1: 'val_accuracy' reached 0.08333 (best 0.08333), saving model to 'g:\\\\GitHub\\\\multiannotator-benchmarks\\\\AutogluonModels\\\\ag-20240105_203339\\\\epoch=0-step=1.ckpt' as top 3\n"
     ]
    },
    {
     "data": {
      "application/vnd.jupyter.widget-view+json": {
       "model_id": "a5488d2cb3704a9796cb65085a880463",
       "version_major": 2,
       "version_minor": 0
      },
      "text/plain": [
       "Validation: 0it [00:00, ?it/s]"
      ]
     },
     "metadata": {},
     "output_type": "display_data"
    },
    {
     "data": {
      "application/vnd.jupyter.widget-view+json": {
       "model_id": "ccbeabac77284dd684b844b0746d0e12",
       "version_major": 2,
       "version_minor": 0
      },
      "text/plain": [
       "Validation: 0it [00:00, ?it/s]"
      ]
     },
     "metadata": {},
     "output_type": "display_data"
    },
    {
     "name": "stderr",
     "output_type": "stream",
     "text": [
      "Epoch 1, global step 2: 'val_accuracy' reached 0.00000 (best 0.08333), saving model to 'g:\\\\GitHub\\\\multiannotator-benchmarks\\\\AutogluonModels\\\\ag-20240105_203339\\\\epoch=1-step=2.ckpt' as top 3\n"
     ]
    },
    {
     "data": {
      "application/vnd.jupyter.widget-view+json": {
       "model_id": "22b867ca31eb423eab24d10c0bf02a77",
       "version_major": 2,
       "version_minor": 0
      },
      "text/plain": [
       "Validation: 0it [00:00, ?it/s]"
      ]
     },
     "metadata": {},
     "output_type": "display_data"
    },
    {
     "data": {
      "application/vnd.jupyter.widget-view+json": {
       "model_id": "4e8a808cb0f94f81a40cdbce9e275366",
       "version_major": 2,
       "version_minor": 0
      },
      "text/plain": [
       "Validation: 0it [00:00, ?it/s]"
      ]
     },
     "metadata": {},
     "output_type": "display_data"
    },
    {
     "name": "stderr",
     "output_type": "stream",
     "text": [
      "Epoch 2, global step 3: 'val_accuracy' reached 0.12500 (best 0.12500), saving model to 'g:\\\\GitHub\\\\multiannotator-benchmarks\\\\AutogluonModels\\\\ag-20240105_203339\\\\epoch=2-step=3.ckpt' as top 3\n"
     ]
    },
    {
     "data": {
      "application/vnd.jupyter.widget-view+json": {
       "model_id": "421e6b660fe245e19967897e7cb25b4e",
       "version_major": 2,
       "version_minor": 0
      },
      "text/plain": [
       "Validation: 0it [00:00, ?it/s]"
      ]
     },
     "metadata": {},
     "output_type": "display_data"
    },
    {
     "data": {
      "application/vnd.jupyter.widget-view+json": {
       "model_id": "a1d00b8e34bc4167bd14aef8c7f7fd06",
       "version_major": 2,
       "version_minor": 0
      },
      "text/plain": [
       "Validation: 0it [00:00, ?it/s]"
      ]
     },
     "metadata": {},
     "output_type": "display_data"
    },
    {
     "name": "stderr",
     "output_type": "stream",
     "text": [
      "Epoch 3, global step 4: 'val_accuracy' reached 0.12500 (best 0.12500), saving model to 'g:\\\\GitHub\\\\multiannotator-benchmarks\\\\AutogluonModels\\\\ag-20240105_203339\\\\epoch=3-step=4.ckpt' as top 3\n"
     ]
    },
    {
     "data": {
      "application/vnd.jupyter.widget-view+json": {
       "model_id": "6be9216f1b354a3a8b1687c2bd73b0f5",
       "version_major": 2,
       "version_minor": 0
      },
      "text/plain": [
       "Validation: 0it [00:00, ?it/s]"
      ]
     },
     "metadata": {},
     "output_type": "display_data"
    },
    {
     "data": {
      "application/vnd.jupyter.widget-view+json": {
       "model_id": "4e954076c5b24aba950ebdc25823a28e",
       "version_major": 2,
       "version_minor": 0
      },
      "text/plain": [
       "Validation: 0it [00:00, ?it/s]"
      ]
     },
     "metadata": {},
     "output_type": "display_data"
    },
    {
     "name": "stderr",
     "output_type": "stream",
     "text": [
      "Epoch 4, global step 5: 'val_accuracy' was not in top 3\n"
     ]
    },
    {
     "data": {
      "application/vnd.jupyter.widget-view+json": {
       "model_id": "2bc63cc222d94d66a18e78dfeec4baee",
       "version_major": 2,
       "version_minor": 0
      },
      "text/plain": [
       "Validation: 0it [00:00, ?it/s]"
      ]
     },
     "metadata": {},
     "output_type": "display_data"
    },
    {
     "data": {
      "application/vnd.jupyter.widget-view+json": {
       "model_id": "1a836a59f8be4265af86e7e73c8c7596",
       "version_major": 2,
       "version_minor": 0
      },
      "text/plain": [
       "Validation: 0it [00:00, ?it/s]"
      ]
     },
     "metadata": {},
     "output_type": "display_data"
    },
    {
     "name": "stderr",
     "output_type": "stream",
     "text": [
      "Epoch 5, global step 6: 'val_accuracy' was not in top 3\n"
     ]
    },
    {
     "data": {
      "application/vnd.jupyter.widget-view+json": {
       "model_id": "34d0c21b093c461a948381e5e2fe6bdc",
       "version_major": 2,
       "version_minor": 0
      },
      "text/plain": [
       "Validation: 0it [00:00, ?it/s]"
      ]
     },
     "metadata": {},
     "output_type": "display_data"
    },
    {
     "data": {
      "application/vnd.jupyter.widget-view+json": {
       "model_id": "378d8c0a965e44cb80e5243141ba8c52",
       "version_major": 2,
       "version_minor": 0
      },
      "text/plain": [
       "Predicting: 0it [00:00, ?it/s]"
      ]
     },
     "metadata": {},
     "output_type": "display_data"
    },
    {
     "data": {
      "application/vnd.jupyter.widget-view+json": {
       "model_id": "5349a76e440a4c248c2cacea8de4fdd0",
       "version_major": 2,
       "version_minor": 0
      },
      "text/plain": [
       "Predicting: 0it [00:00, ?it/s]"
      ]
     },
     "metadata": {},
     "output_type": "display_data"
    },
    {
     "data": {
      "application/vnd.jupyter.widget-view+json": {
       "model_id": "2d6c30b01ee645d8bf3340dfdac8a2ae",
       "version_major": 2,
       "version_minor": 0
      },
      "text/plain": [
       "Predicting: 0it [00:00, ?it/s]"
      ]
     },
     "metadata": {},
     "output_type": "display_data"
    },
    {
     "data": {
      "application/vnd.jupyter.widget-view+json": {
       "model_id": "94385992018e4b399cf92ff2495a8dab",
       "version_major": 2,
       "version_minor": 0
      },
      "text/plain": [
       "Predicting: 0it [00:00, ?it/s]"
      ]
     },
     "metadata": {},
     "output_type": "display_data"
    },
    {
     "ename": "AttributeError",
     "evalue": "'MultiModalPredictor' object has no attribute 'predict_feature'",
     "output_type": "error",
     "traceback": [
      "\u001b[1;31m---------------------------------------------------------------------------\u001b[0m",
      "\u001b[1;31mAttributeError\u001b[0m                            Traceback (most recent call last)",
      "File \u001b[1;32m<timed exec>:13\u001b[0m\n",
      "File \u001b[1;32mg:\\GitHub\\multiannotator-benchmarks\\utils\\cross_validation_autogluon.py:86\u001b[0m, in \u001b[0;36mcross_val_predict_autogluon_image_dataframe\u001b[1;34m(df, out_folder, n_splits, model_params, time_limit, random_state)\u001b[0m\n\u001b[0;32m     78\u001b[0m pred_probs \u001b[38;5;241m=\u001b[39m predictor\u001b[38;5;241m.\u001b[39mpredict_proba(\n\u001b[0;32m     79\u001b[0m     data\u001b[38;5;241m=\u001b[39mdf\u001b[38;5;241m.\u001b[39miloc[test_index], as_pandas\u001b[38;5;241m=\u001b[39m\u001b[38;5;28;01mFalse\u001b[39;00m\n\u001b[0;32m     80\u001b[0m )\n\u001b[0;32m     82\u001b[0m \u001b[38;5;66;03m# predicted features (aka embeddings) for test split\u001b[39;00m\n\u001b[0;32m     83\u001b[0m \u001b[38;5;66;03m# why does autogluon predict_feature return array of array for the features?\u001b[39;00m\n\u001b[0;32m     84\u001b[0m \u001b[38;5;66;03m# need to use stack to convert to 2d array (https://stackoverflow.com/questions/50971123/converty-numpy-array-of-arrays-to-2d-array)\u001b[39;00m\n\u001b[0;32m     85\u001b[0m pred_features \u001b[38;5;241m=\u001b[39m np\u001b[38;5;241m.\u001b[39mstack(\n\u001b[1;32m---> 86\u001b[0m     \u001b[43mpredictor\u001b[49m\u001b[38;5;241;43m.\u001b[39;49m\u001b[43mpredict_feature\u001b[49m(data\u001b[38;5;241m=\u001b[39mdf\u001b[38;5;241m.\u001b[39miloc[test_index], as_pandas\u001b[38;5;241m=\u001b[39m\u001b[38;5;28;01mFalse\u001b[39;00m)[\n\u001b[0;32m     87\u001b[0m         :, \u001b[38;5;241m0\u001b[39m\n\u001b[0;32m     88\u001b[0m     ]\n\u001b[0;32m     89\u001b[0m )\n\u001b[0;32m     91\u001b[0m \u001b[38;5;66;03m# save output of model + split in pickle file\u001b[39;00m\n\u001b[0;32m     93\u001b[0m out_subfolder \u001b[38;5;241m=\u001b[39m \u001b[38;5;124mf\u001b[39m\u001b[38;5;124m\"\u001b[39m\u001b[38;5;132;01m{\u001b[39;00mout_folder\u001b[38;5;132;01m}\u001b[39;00m\u001b[38;5;124msplit_\u001b[39m\u001b[38;5;132;01m{\u001b[39;00msplit_num\u001b[38;5;132;01m}\u001b[39;00m\u001b[38;5;124m/\u001b[39m\u001b[38;5;124m\"\u001b[39m\n",
      "\u001b[1;31mAttributeError\u001b[0m: 'MultiModalPredictor' object has no attribute 'predict_feature'"
     ]
    }
   ],
   "source": [
    "%%time\n",
    "# run cross-validation for each model\n",
    "for model in models:\n",
    "    \n",
    "    print(\"----\")\n",
    "    print(f\"Running cross-validation for model: {model}\")\n",
    "\n",
    "    MODEL_PARAMS = {\n",
    "        \"model.timm_image.checkpoint_name\": model,\n",
    "    }\n",
    "\n",
    "    # results of cross-validation will be saved to pickle files for each model/fold\n",
    "    _ = \\\n",
    "        cross_val_predict_autogluon_image_dataframe(\n",
    "            df=mini_df,\n",
    "            out_folder=f\"{model_folder}_{model}/\", # save results of cross-validation in pickle files for each fold\n",
    "            n_splits=num_cv_folds,\n",
    "            model_params=MODEL_PARAMS,\n",
    "            time_limit=time_limit,\n",
    "            random_state=random_state,\n",
    "        )"
   ]
  },
  {
   "cell_type": "markdown",
   "id": "bc171378",
   "metadata": {},
   "source": [
    "## Read per-fold pickle files from xvalidation and save data as numpy arrays"
   ]
  },
  {
   "cell_type": "code",
   "execution_count": null,
   "id": "23da39c0",
   "metadata": {},
   "outputs": [],
   "source": [
    "# load pickle file util\n",
    "def load_pickle(pickle_file_name, verbose=1):\n",
    "    \"\"\"Load pickle file\"\"\"\n",
    "\n",
    "    if verbose:\n",
    "        print(f\"Loading {pickle_file_name}\")\n",
    "\n",
    "    with open(pickle_file_name, 'rb') as handle:\n",
    "        out = pickle.load(handle)\n",
    "        \n",
    "    return out\n",
    "\n",
    "# get the original label from file path (aka \"true labels\" y)\n",
    "get_orig_label_idx_from_file_path = np.vectorize(lambda f: label_name_to_idx_map[Path(f).parts[-2]])\n",
    "\n",
    "# get original label name to idx mapping\n",
    "label_name_to_idx_map = {'airplane': 0,\n",
    "                         'automobile': 1,\n",
    "                         'bird': 2,\n",
    "                         'cat': 3,\n",
    "                         'deer': 4,\n",
    "                         'dog': 5,\n",
    "                         'frog': 6,\n",
    "                         'horse': 7,\n",
    "                         'ship': 8,\n",
    "                         'truck': 9}"
   ]
  },
  {
   "cell_type": "markdown",
   "id": "ba7e7837",
   "metadata": {},
   "source": [
    "#### Save pickle files per fold as single files per model"
   ]
  },
  {
   "cell_type": "code",
   "execution_count": null,
   "id": "d6102283",
   "metadata": {},
   "outputs": [],
   "source": [
    "results_list = []\n",
    "\n",
    "for model in models:\n",
    "\n",
    "    pred_probs = []\n",
    "    labels = []\n",
    "    images = []\n",
    "    \n",
    "    for split_num in range(num_cv_folds):\n",
    "\n",
    "        out_subfolder = f\"{model_folder}_{model}/split_{split_num}/\"\n",
    "        \n",
    "        # pickle file name to read\n",
    "        get_pickle_file_name = (\n",
    "            lambda object_name: f\"{out_subfolder}_{object_name}_split_{split_num}\"\n",
    "        )\n",
    "\n",
    "        # NOTE: the \"test_\" prefix in the pickle name correspond to the \"test\" split during cross-validation.\n",
    "        pred_probs_split = load_pickle(get_pickle_file_name(\"test_pred_probs\"), verbose=verbose)\n",
    "        labels_split = load_pickle(get_pickle_file_name(\"test_labels\"), verbose=verbose)\n",
    "        images_split = load_pickle(get_pickle_file_name(\"test_image_files\"), verbose=verbose)\n",
    "        indices_split = load_pickle(get_pickle_file_name(\"test_indices\"), verbose=verbose)\n",
    "\n",
    "        # append to list so we can combine data from all the splits\n",
    "        pred_probs.append(pred_probs_split)\n",
    "        labels.append(labels_split)\n",
    "        images.append(images_split)    \n",
    "\n",
    "    # convert list to array\n",
    "    pred_probs = np.vstack(pred_probs)\n",
    "    labels = np.hstack(labels) # remember that this is the noisy labels (s)\n",
    "    images = np.hstack(images)\n",
    "    \n",
    "    # get the true labels (y) from the original file path\n",
    "    true_labels = get_orig_label_idx_from_file_path(images)\n",
    "    \n",
    "    # save to Numpy files\n",
    "    numpy_out_folder = f\"{model_folder}_{model}/\"\n",
    "    \n",
    "    print(f\"Saving to numpy files in this folder: {numpy_out_folder}\")\n",
    "    \n",
    "    np.save(numpy_out_folder + \"pred_probs\", pred_probs)\n",
    "    np.save(numpy_out_folder + \"labels\", labels)\n",
    "    np.save(numpy_out_folder + \"images\", images)\n",
    "    np.save(numpy_out_folder + \"true_labels\", true_labels)\n",
    "\n",
    "    # check the accuracy\n",
    "    acc_labels = (pred_probs.argmax(axis=1) == labels).mean() # noisy labels (s)\n",
    "    acc_true_labels = (pred_probs.argmax(axis=1) == true_labels).mean() # true labels (y)    \n",
    "    acc_noisy_vs_true_labels = (labels == true_labels).mean()\n",
    "    \n",
    "    print(f\"Model: {model}\")\n",
    "    print(f\"  Accuracy (argmax pred vs labels): {acc_labels}\")\n",
    "    print(f\"  Accuracy (argmax pred vs true labels) : {acc_true_labels}\")\n",
    "    print(f\"  Accuracy (labels vs true labels)       : {acc_noisy_vs_true_labels}\")\n",
    "    \n",
    "    results = {\n",
    "        \"model\": model,\n",
    "        \"Accuracy (argmax pred vs noisy labels)\": acc_labels,\n",
    "        \"Accuracy (argmax pred vs true labels)\": acc_true_labels,\n",
    "        \"Accuracy (noisy vs true labels)\": acc_noisy_vs_true_labels\n",
    "    }\n",
    "    \n",
    "    results_list.append(results)"
   ]
  },
  {
   "cell_type": "code",
   "execution_count": null,
   "id": "8c8d3b40",
   "metadata": {},
   "outputs": [],
   "source": [
    "for model in models:\n",
    "    numpy_out_folder = f\"{model_folder}_{model}/\"\n",
    "\n",
    "    pred_probs = np.load(numpy_out_folder + 'pred_probs.npy')\n",
    "    labels = np.load(numpy_out_folder + 'labels.npy')\n",
    "    true_labels =  np.load(numpy_out_folder + 'true_labels.npy')\n",
    "    print(f'{model}\\n pred_probs[{pred_probs.shape}],labels[{labels.shape}], true_labels[{true_labels.shape}]\\n')"
   ]
  }
 ],
 "metadata": {
  "kernelspec": {
   "display_name": "crowdsource",
   "language": "python",
   "name": "python3"
  },
  "language_info": {
   "codemirror_mode": {
    "name": "ipython",
    "version": 3
   },
   "file_extension": ".py",
   "mimetype": "text/x-python",
   "name": "python",
   "nbconvert_exporter": "python",
   "pygments_lexer": "ipython3",
   "version": "3.10.13"
  }
 },
 "nbformat": 4,
 "nbformat_minor": 5
}
