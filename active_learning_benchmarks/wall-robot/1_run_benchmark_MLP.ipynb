{
 "cells": [
  {
   "cell_type": "code",
   "execution_count": 1,
   "metadata": {},
   "outputs": [],
   "source": [
    "from utils.methods_MLP import entropy, random, good_random, uncertainty, crowdlab, disagreement, crowdlab_ensemble\n",
    "\n",
    "import warnings\n",
    "warnings.filterwarnings(\"ignore\")"
   ]
  },
  {
   "attachments": {},
   "cell_type": "markdown",
   "metadata": {},
   "source": [
    "## Load Files"
   ]
  },
  {
   "attachments": {},
   "cell_type": "markdown",
   "metadata": {},
   "source": [
    "The datafiles can either be generate yourself by running [0_create_data.ipynb](0_create_data.ipynb), or by downloading our pre-generated files using the commands:\n",
    "\n",
    "```\n",
    "wget -nc 'https://cleanlab-public.s3.amazonaws.com/ActiveLearning/Benchmark/WallRobot/wall-robot.tar.gz'\n",
    "tar -xf wall-robot.tar.gz data/\n",
    "```"
   ]
  },
  {
   "attachments": {},
   "cell_type": "markdown",
   "metadata": {},
   "source": [
    "## Run Benchmarks"
   ]
  },
  {
   "cell_type": "code",
   "execution_count": null,
   "metadata": {},
   "outputs": [],
   "source": [
    "# single model methods, here we use MLP\n",
    "entropy()\n",
    "random()\n",
    "good_random()\n",
    "uncertainty()\n",
    "crowdlab()"
   ]
  },
  {
   "cell_type": "code",
   "execution_count": null,
   "metadata": {},
   "outputs": [],
   "source": [
    "# ensemble methods\n",
    "disagreement()\n",
    "crowdlab_ensemble"
   ]
  }
 ],
 "metadata": {
  "kernelspec": {
   "display_name": "cl-dev-jupyter",
   "language": "python",
   "name": "cl-dev-jupyter"
  },
  "language_info": {
   "codemirror_mode": {
    "name": "ipython",
    "version": 3
   },
   "file_extension": ".py",
   "mimetype": "text/x-python",
   "name": "python",
   "nbconvert_exporter": "python",
   "pygments_lexer": "ipython3",
   "version": "3.10.8 (main, Oct 21 2022, 22:22:30) [Clang 14.0.0 (clang-1400.0.29.202)]"
  },
  "orig_nbformat": 4,
  "vscode": {
   "interpreter": {
    "hash": "1b7ac7a092e8f679e0c6d6ca9f3df454c820f76db2a859208803bf085fb9eeb3"
   }
  }
 },
 "nbformat": 4,
 "nbformat_minor": 2
}
