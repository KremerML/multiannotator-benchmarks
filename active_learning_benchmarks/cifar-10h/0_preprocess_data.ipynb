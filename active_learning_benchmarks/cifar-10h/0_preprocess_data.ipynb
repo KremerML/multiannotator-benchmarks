{
 "cells": [
  {
   "cell_type": "markdown",
   "id": "aba15dc7",
   "metadata": {},
   "source": [
    "# Preprocess CIFAR-10h Data \n",
    "\n",
    "Before running this notebook, make sure cifar10h dataset is downloaded locally:\n",
    "1. Make new subfolder ``mkdir data``\n",
    "2. Download cifar-10h dataset ``cd data && git clone https://github.com/jcpeterson/cifar-10h.git``\n",
    "3. Clean directory ``cd cifar-10h && mv data/* . && rm -rf data``\n",
    "4. Unzip data ``unzip cifar10h-raw && rm cifar10h-raw.zip``"
   ]
  },
  {
   "cell_type": "code",
   "execution_count": 1,
   "id": "3b226782",
   "metadata": {},
   "outputs": [],
   "source": [
    "import os\n",
    "import numpy as np\n",
    "import pandas as pd\n",
    "from cleanlab.multiannotator import get_majority_vote_label\n",
    "from utils.eval import get_annotator_mask, get_labels_error_mask, plt_annotator_accuracy\n",
    "from sklearn.model_selection import train_test_split\n",
    "\n",
    "path = os.getcwd()\n"
   ]
  },
  {
   "cell_type": "code",
   "execution_count": 2,
   "id": "29e7c956",
   "metadata": {},
   "outputs": [],
   "source": [
    "# If this line throws an error, make sure you correctly downloaded and unzipped cifar10h-raw data\n",
    "c10h_df = pd.read_csv(\"./data/cifar-10h/cifar10h-raw.csv\")\n",
    "c10h_df = c10h_df[\n",
    "    c10h_df.cifar10_test_test_idx != -99999\n",
    "]  # dropping all attention check trials\n"
   ]
  },
  {
   "cell_type": "markdown",
   "id": "c4fe25d4",
   "metadata": {},
   "source": [
    "#### Creates dataset into following arrays:\n",
    "- ``c10h_labels: (N,M)``\n",
    "- ``c10h_true_labels: (K=10,000,)``\n",
    "- ``c10h_true_images: (K=10,000,)``"
   ]
  },
  {
   "cell_type": "code",
   "execution_count": 3,
   "id": "2e959414",
   "metadata": {},
   "outputs": [],
   "source": [
    "# initialize arrays\n",
    "c10h_num_datapoints = c10h_df[\"cifar10_test_test_idx\"].max() + 1\n",
    "c10h_num_annotators = c10h_df[\"annotator_id\"].max() + 1\n",
    "\n",
    "c10h_labels_full = np.full(\n",
    "    (c10h_num_datapoints, c10h_num_annotators), np.nan\n",
    ")  # all annotator labels np.full([height, width, 9], np.nan)\n",
    "\n",
    "c10h_true_labels_full = np.zeros((c10h_num_datapoints,))\n",
    "c10h_true_images_full = np.empty((c10h_num_datapoints,), dtype=object)\n"
   ]
  },
  {
   "cell_type": "code",
   "execution_count": 4,
   "id": "854caccd",
   "metadata": {},
   "outputs": [],
   "source": [
    "# get annotator labels as numpy array (N=labels, M=annotators)\n",
    "for annotator_id in range(c10h_num_annotators):\n",
    "    adf = c10h_df[c10h_df.annotator_id == annotator_id]  # 200 annotations per annotator\n",
    "    annotations_idx = adf[\"cifar10_test_test_idx\"].values\n",
    "    annotations = adf[\"chosen_label\"].values\n",
    "    errors = adf[\"correct_guess\"].values\n",
    "\n",
    "    c10h_labels_full[annotations_idx, annotator_id] = annotations\n",
    "\n",
    "# get true labels as numpy array (N = true labels,)\n",
    "idx_to_label = [\n",
    "    (idx, label, image)\n",
    "    for idx, label, image in zip(\n",
    "        c10h_df[\"cifar10_test_test_idx\"],\n",
    "        c10h_df[\"true_label\"],\n",
    "        c10h_df[\"image_filename\"],\n",
    "    )\n",
    "]\n",
    "idx_to_label = list(set(idx_to_label))\n",
    "\n",
    "idx = [idx_to_label[0] for idx_to_label in idx_to_label]\n",
    "true_label = [idx_to_label[1] for idx_to_label in idx_to_label]\n",
    "htrue_image = [idx_to_label[2] for idx_to_label in idx_to_label]\n",
    "\n",
    "c10h_true_labels_full[idx] = true_label\n",
    "c10h_true_images_full[idx] = htrue_image\n"
   ]
  },
  {
   "cell_type": "code",
   "execution_count": 5,
   "id": "288b93fd",
   "metadata": {},
   "outputs": [],
   "source": [
    "# Save labels as csv with image paths\n",
    "mini_df = c10h_df[['image_filename','true_category','cifar10_test_test_idx']].drop_duplicates()\n",
    "c10h_true_images_full = [\n",
    "              'data/cifar10/test/' +\n",
    "              mini_df[mini_df['image_filename'] == c10h_true_images_full[i]]['true_category'].item() +\n",
    "              '/test_batch_index_' +\n",
    "              str(mini_df[mini_df['image_filename'] == c10h_true_images_full[i]]['cifar10_test_test_idx'].item()).zfill(4) +\n",
    "              '.png'\n",
    "              for i in range(len(c10h_true_images_full))]"
   ]
  },
  {
   "cell_type": "code",
   "execution_count": 21,
   "id": "f4e8b137",
   "metadata": {},
   "outputs": [],
   "source": [
    "# Save labels and true images/labels as npy\n",
    "np.save(\"./data/full_dataset/c10h_labels.npy\", c10h_labels_full)\n",
    "np.save(\"./data/full_dataset/c10h_true_labels.npy\", c10h_true_labels_full)\n",
    "np.save(\"./data/full_dataset/c10h_true_images.npy\", c10h_true_images_full)\n"
   ]
  },
  {
   "cell_type": "code",
   "execution_count": 7,
   "id": "902500c8",
   "metadata": {},
   "outputs": [],
   "source": [
    "(\n",
    "    c10h_labels_train,\n",
    "    c10h_labels_test,\n",
    "    c10h_true_labels_train,\n",
    "    c10h_true_labels_test,\n",
    "    c10h_true_images_train,\n",
    "    c10h_true_images_test,\n",
    ") = train_test_split(\n",
    "    c10h_labels_full,\n",
    "    c10h_true_labels_full,\n",
    "    c10h_true_images_full,\n",
    "    test_size=0.5,\n",
    "    random_state=123,\n",
    ")\n",
    "\n",
    "(\n",
    "    c10h_labels_labeled,\n",
    "    c10h_labels_unlabeled,\n",
    "    c10h_true_labels_labeled,\n",
    "    c10h_true_labels_unlabeled,\n",
    "    c10h_true_images_labeled,\n",
    "    c10h_true_images_unlabeled,\n",
    ") = train_test_split(\n",
    "    c10h_labels_train,\n",
    "    c10h_true_labels_train,\n",
    "    c10h_true_images_train,\n",
    "    test_size=0.8,\n",
    "    random_state=456,\n",
    ")\n"
   ]
  },
  {
   "cell_type": "code",
   "execution_count": 20,
   "id": "8bde44b8",
   "metadata": {},
   "outputs": [],
   "source": [
    "# for reference, save all data\n",
    "\n",
    "np.save(\"./data/full_dataset/c10h_labels_labeled\", c10h_labels_labeled)\n",
    "np.save(\"./data/full_dataset/c10h_true_labels_labeled\", c10h_true_labels_labeled)\n",
    "np.save(\"./data/full_dataset/c10h_true_images_labeled\", c10h_true_images_labeled)\n",
    "\n",
    "np.save(\"./data/full_dataset/c10h_labels_unlabeled\", c10h_labels_unlabeled)\n",
    "np.save(\"./data/full_dataset/c10h_true_labels_unlabeled\", c10h_true_labels_unlabeled)\n",
    "np.save(\"./data/full_dataset/c10h_true_images_unlabeled\", c10h_true_images_unlabeled)\n",
    "\n",
    "np.save(\"./data/full_dataset/c10h_labels_test\", c10h_labels_test)\n",
    "np.save(\"./data/full_dataset/c10h_true_labels_test\", c10h_true_labels_test)\n",
    "np.save(\"./data/full_dataset/c10h_true_images_test\", c10h_true_images_test)"
   ]
  },
  {
   "cell_type": "code",
   "execution_count": 19,
   "id": "9adb2f3d",
   "metadata": {},
   "outputs": [],
   "source": [
    "# save only data required for benchmark\n",
    "\n",
    "np.save(\"./data/extra_labels_labeled\", c10h_labels_labeled)\n",
    "np.save(\"./data/true_labels_labeled\", c10h_true_labels_labeled)\n",
    "np.save(\"./data/images_labeled\", c10h_true_images_labeled)\n",
    "\n",
    "np.save(\"./data/extra_labels_unlabeled\", c10h_labels_unlabeled)\n",
    "np.save(\"./data/true_labels_unlabeled\", c10h_true_labels_unlabeled)\n",
    "np.save(\"./data/images_unlabeled\", c10h_true_images_unlabeled)\n",
    "\n",
    "np.save(\"./data/true_labels_test\", c10h_true_labels_test)\n",
    "np.save(\"./data/images_test\", c10h_true_images_test)\n"
   ]
  },
  {
   "cell_type": "markdown",
   "id": "bc53fb87",
   "metadata": {},
   "source": [
    "## Subset Labeled Training Data"
   ]
  },
  {
   "cell_type": "code",
   "execution_count": 10,
   "id": "7b244bb5",
   "metadata": {},
   "outputs": [],
   "source": [
    "# Returns sample labels/error_mask/annotator_mask where x_drop, y_drop are idxs that are dropped\n",
    "def get_sample_labels(x_drop, y_drop, labels, labels_error_mask, annotator_mask):\n",
    "    s_annotator_mask = annotator_mask.copy()\n",
    "    s_annotator_mask[(x_drop,y_drop)] = 0\n",
    "    s_labels_error_mask = s_annotator_mask & labels_error_mask\n",
    "    s_labels = labels.copy()\n",
    "    np.copyto(s_labels, np.nan, where=(s_annotator_mask==0)) \n",
    "    print('Total idxs dropped: ', annotator_mask.sum() - s_annotator_mask.sum())\n",
    "    return s_labels, s_labels_error_mask, s_annotator_mask\n",
    "\n",
    "# Returns a list of labeled indices to drop (random length per row)\n",
    "def get_random_drop_per_row(c10h_annotator_mask):\n",
    "    x,y = np.where(c10h_annotator_mask == 1)\n",
    "    idx_df = pd.DataFrame(zip(x,y),columns=['x','y'])\n",
    "    for x_idx in range(idx_df['x'].max()+1):\n",
    "        num_drop = np.random.randint(1, len(idx_df[idx_df['x'] == x_idx])+1)\n",
    "        idx_df = idx_df.drop(idx_df[idx_df['x'] == x_idx].sample(num_drop).index)\n",
    "    x_drop = idx_df['x'].values\n",
    "    y_drop = idx_df['y'].values\n",
    "    return x_drop, y_drop\n",
    "\n",
    "# Returns a list of labeled indices to drop \n",
    "# (Randomly drop until <= max_annotations per example. Try to minimize number of distinct annotators)\n",
    "def get_random_drop_per_row_min_annotators(c10h_annotator_mask, max_annotations = 5):\n",
    "    x,y = np.where(c10h_annotator_mask == 1)\n",
    "    xy = set([(x_idx,y_idx) for x_idx,y_idx in zip(x,y)])\n",
    "    idx_df = pd.DataFrame(zip(x,y),columns=['x','y'])\n",
    "    idx_keep = []\n",
    "    selected_annotators = set()\n",
    "    for x_idx in range(idx_df['x'].max()+1):\n",
    "        Y = idx_df[idx_df['x'] == x_idx]['y']\n",
    "        seen_annotators = set(Y).intersection(selected_annotators)\n",
    "        if len(seen_annotators) < max_annotations: # We need to randomly select more annotators to greedy add\n",
    "            num_to_find = max_annotations - len(seen_annotators)\n",
    "            y_keep = set(np.random.choice(list(set(Y).difference(seen_annotators)), num_to_find, replace=False))\n",
    "            selected_annotators = selected_annotators.union(y_keep)\n",
    "            y_keep = seen_annotators.union(y_keep)\n",
    "        else: # We have enough annotators and need to randomly select annotations out of the guys we have\n",
    "            y_keep = np.random.choice(list(seen_annotators), max_annotations,replace=False)\n",
    "        xy_keep = [(x_idx,y) for y in y_keep]\n",
    "        idx_keep.extend(xy_keep)\n",
    "    xy = xy.difference(set(idx_keep))\n",
    "    x_drop = [xy_idx[0] for xy_idx in xy]\n",
    "    y_drop = [xy_idx[1] for xy_idx in xy]\n",
    "    return x_drop, y_drop\n",
    "\n",
    "def get_worst_annotators(c10h_annotator_mask, annotator_idxs):\n",
    "    annotations_per_example = np.zeros(c10h_annotator_mask.shape[0])\n",
    "    annotations_per_annotator = np.zeros(c10h_annotator_mask.shape[1]) # dictionary of distinct examples\n",
    "    selected_annotators = set()\n",
    "    \n",
    "    annotator_mask = np.zeros_like(c10h_annotator_mask)\n",
    "    # add first x annotators\n",
    "    num_initial_annotators = 50\n",
    "    for idx in annotator_idxs[:num_initial_annotators]:\n",
    "        x = np.where(c10h_annotator_mask[:,idx] == 1)[0]\n",
    "        annotations_per_example[x] += 1\n",
    "        annotations_per_annotator[idx] = len(x)\n",
    "        selected_annotators.add(idx)\n",
    "        annotator_mask[x, idx] = 1\n",
    "    \n",
    "    # only add other annotators if they share overlap with first x\n",
    "    labeled_all_datapoints = False\n",
    "    while labeled_all_datapoints == False:\n",
    "        for idx in annotator_idxs[num_initial_annotators:]:\n",
    "            if annotations_per_example.min() > 0:\n",
    "                print('all examples have at least 1 annotator')\n",
    "                labeled_all_datapoints = True\n",
    "                break # test every single ex has at least 1 annotator\n",
    "            \n",
    "            x = np.where(c10h_annotator_mask[:,idx] == 1)[0] # annotator annotations\n",
    "            \n",
    "            # only add annotator if they overlap with current annotations\n",
    "            if annotations_per_example[x].sum() > len(x):\n",
    "                x = x[annotations_per_example[x] < 3]\n",
    "                annotations_per_example[x] += 1\n",
    "                annotations_per_annotator[idx] = len(x)\n",
    "                selected_annotators.add(idx)\n",
    "                annotator_mask[x, idx] = 1\n",
    "    \n",
    "    for ex in range(annotator_mask.shape[0]):\n",
    "        if annotations_per_example[ex] < 3: # ignore dropping when there are very little annotations\n",
    "            continue\n",
    "\n",
    "        annotators = np.where(annotator_mask[ex] == 1)[0] # annotators for example\n",
    "        drop_y = np.random.choice(annotators, len(annotators)-1, replace=False)\n",
    "\n",
    "        for y in drop_y:\n",
    "            if np.random.uniform() > 0.05:\n",
    "\n",
    "                safe_to_drop = True\n",
    "                for y_check in annotators:\n",
    "                    x = np.where(annotator_mask[:,y_check] == 1)[0]  # annotations for annotator y for all examples\n",
    "                    x = np.setdiff1d(x,np.array([ex])) # annotations for annotator y for all examples minus curent example\n",
    "                    if len(x) <= 1 or annotations_per_example[x].max() <= 2 or annotations_per_example[x].sum() <= (len(x) + 1): # number of total annotations by our annotator\n",
    "                        safe_to_drop = False\n",
    "                        break\n",
    "\n",
    "                if safe_to_drop: \n",
    "                    annotator_mask[ex][y] = 0\n",
    "                    annotations_per_annotator[y] -= 1\n",
    "                    annotations_per_example[ex] -= 1\n",
    "\n",
    "    x_drop, y_drop = np.where(annotator_mask == 0)\n",
    "    \n",
    "    print('num_worst_annotators_selected', len(selected_annotators))\n",
    "    return x_drop, y_drop"
   ]
  },
  {
   "cell_type": "code",
   "execution_count": 11,
   "id": "95cd716e",
   "metadata": {},
   "outputs": [],
   "source": [
    "c10h_labels = c10h_labels_labeled\n",
    "c10h_true_labels = c10h_true_labels_labeled\n",
    "\n",
    "c10h_annotator_mask = get_annotator_mask(c10h_labels)\n",
    "c10h_labels_error_mask = get_labels_error_mask(c10h_labels, c10h_true_labels)"
   ]
  },
  {
   "cell_type": "code",
   "execution_count": 12,
   "id": "d0614a1d",
   "metadata": {},
   "outputs": [
    {
     "data": {
      "image/png": "[encoded data removed]",
      "text/plain": [
       "<Figure size 700x700 with 1 Axes>"
      ]
     },
     "metadata": {},
     "output_type": "display_data"
    },
    {
     "name": "stdout",
     "output_type": "stream",
     "text": [
      "all examples have at least 1 annotator\n",
      "num_worst_annotators_selected 541\n",
      "Total idxs dropped:  49985\n",
      "Make sure 6 <= max_annotations and 1 > 0: \n",
      "(1000, 334) (1000, 334)\n"
     ]
    },
    {
     "data": {
      "image/png": "[encoded data removed]",
      "text/plain": [
       "<Figure size 700x700 with 1 Axes>"
      ]
     },
     "metadata": {},
     "output_type": "display_data"
    },
    {
     "name": "stdout",
     "output_type": "stream",
     "text": [
      "Consensus label accuracy:  0.822\n"
     ]
    },
    {
     "name": "stderr",
     "output_type": "stream",
     "text": [
      "/Users/huiwengoh/Documents/Cleanlab/Code/cleanlab/cleanlab/multiannotator.py:413: UserWarning: breaking ties of examples [321] by random selection, you may want to set seed for reproducability\n",
      "  warnings.warn(\n"
     ]
    }
   ],
   "source": [
    "annotator_accuracy_df = plt_annotator_accuracy(\n",
    "    c10h_labels_error_mask, c10h_annotator_mask\n",
    ").sort_values(by=\"score\")\n",
    "annotator_idxs = annotator_accuracy_df.index.values.tolist()\n",
    "\n",
    "x_drop, y_drop = get_worst_annotators(c10h_annotator_mask, annotator_idxs)\n",
    "c10h_labels, c10h_labels_error_mask, c10h_annotator_mask = get_sample_labels(\n",
    "    x_drop, y_drop, c10h_labels, c10h_labels_error_mask, c10h_annotator_mask\n",
    ")\n",
    "\n",
    "print(\n",
    "    f\"Make sure {c10h_annotator_mask.sum(axis=1).max()} <= max_annotations and { c10h_annotator_mask.sum(axis=1).min()} > 0: \"\n",
    ")\n",
    "\n",
    "# drop all empty annotators\n",
    "drop_axis = c10h_labels.copy()\n",
    "c10h_labels = c10h_labels[:, ~np.isnan(drop_axis).all(axis=0)]\n",
    "c10h_labels_error_mask = c10h_labels_error_mask[:, ~np.isnan(drop_axis).all(axis=0)]\n",
    "c10h_annotator_mask = c10h_annotator_mask[:, ~np.isnan(drop_axis).all(axis=0)]\n",
    "print(c10h_labels.shape, c10h_annotator_mask.shape)\n",
    "\n",
    "# get new annotator accuracy\n",
    "annotator_accuracy_df = plt_annotator_accuracy(\n",
    "    c10h_labels_error_mask, c10h_annotator_mask\n",
    ").sort_values(by=\"score\")\n",
    "annotator_accuracy_df.describe()\n",
    "consensus_labels = get_majority_vote_label(c10h_labels, pred_probs=None)\n",
    "print(\"Consensus label accuracy: \", np.mean(c10h_true_labels == consensus_labels))\n"
   ]
  },
  {
   "cell_type": "code",
   "execution_count": 13,
   "id": "8365e735",
   "metadata": {},
   "outputs": [],
   "source": [
    "# Check if dataset creation conditions are met\n",
    "for col in range(c10h_annotator_mask.shape[1]):\n",
    "    annotator = np.where(c10h_annotator_mask[:,col] == 1)[0]\n",
    "    intersects = False\n",
    "    for j in range(c10h_annotator_mask.shape[1]):\n",
    "        if j == col:\n",
    "            continue\n",
    "        annotator2 = np.where(c10h_annotator_mask[:,j] == 1)[0]\n",
    "        if len(np.intersect1d(annotator, annotator2)) > 0:\n",
    "            intersects = True\n",
    "    if not intersects:\n",
    "        print(f'annotator {col} does not intersect with any other annotator')"
   ]
  },
  {
   "cell_type": "code",
   "execution_count": 14,
   "id": "2ff5ed9d",
   "metadata": {},
   "outputs": [
    {
     "name": "stdout",
     "output_type": "stream",
     "text": [
      "1    738\n",
      "3    174\n",
      "2     85\n",
      "6      2\n",
      "5      1\n",
      "dtype: int64\n"
     ]
    },
    {
     "data": {
      "text/plain": [
       "array([[<AxesSubplot:title={'center':'0'}>]], dtype=object)"
      ]
     },
     "execution_count": 14,
     "metadata": {},
     "output_type": "execute_result"
    },
    {
     "data": {
      "image/png": "[encoded data removed]",
      "text/plain": [
       "<Figure size 640x480 with 1 Axes>"
      ]
     },
     "metadata": {},
     "output_type": "display_data"
    }
   ],
   "source": [
    "# Get stats\n",
    "print(pd.DataFrame(c10h_annotator_mask.sum(axis=1)).value_counts())\n",
    "pd.DataFrame(c10h_annotator_mask.sum(axis=0)).hist(bins=50)"
   ]
  },
  {
   "cell_type": "code",
   "execution_count": 16,
   "id": "45d96bf6",
   "metadata": {},
   "outputs": [],
   "source": [
    "np.save('./data/multiannotator_labels_labeled', c10h_labels)"
   ]
  }
 ],
 "metadata": {
  "kernelspec": {
   "display_name": "cl-dev-jupyter",
   "language": "python",
   "name": "cl-dev-jupyter"
  },
  "language_info": {
   "codemirror_mode": {
    "name": "ipython",
    "version": 3
   },
   "file_extension": ".py",
   "mimetype": "text/x-python",
   "name": "python",
   "nbconvert_exporter": "python",
   "pygments_lexer": "ipython3",
   "version": "3.10.8"
  }
 },
 "nbformat": 4,
 "nbformat_minor": 5
}
