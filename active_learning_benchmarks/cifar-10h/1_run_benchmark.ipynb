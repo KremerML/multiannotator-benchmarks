{
 "cells": [
  {
   "cell_type": "code",
   "execution_count": 1,
   "id": "3ae1749c",
   "metadata": {},
   "outputs": [],
   "source": [
    "import os\n",
    "from utils.methods import entropy, random, good_random, uncertainty, disagreement, crowdlab, crowdlab_ensemble"
   ]
  },
  {
   "cell_type": "code",
   "execution_count": 2,
   "id": "d2c666ef",
   "metadata": {},
   "outputs": [],
   "source": [
    "# Initial steps for running if cifar2png is not installed\n",
    "# !pip install cifar2png #  install png installer for cifar10 images\n",
    "# !cifar2png cifar10 ./data/cifar10 --name-with-batch-index #  download the images"
   ]
  },
  {
   "cell_type": "code",
   "execution_count": 3,
   "id": "0c47de67",
   "metadata": {},
   "outputs": [
    {
     "name": "stdout",
     "output_type": "stream",
     "text": [
      "Directory  ./experiment  already exists\n",
      "Experiment saved in ./experiment\n"
     ]
    }
   ],
   "source": [
    "experiment_path = \"./experiment\"  # folder to save outputs from this notebook\n",
    "if not os.path.exists(experiment_path):\n",
    "    os.makedirs(experiment_path)\n",
    "    print(\"Directory \" , experiment_path ,  \" Created \")\n",
    "else:    \n",
    "    print(\"Directory \" , experiment_path ,  \" already exists\")\n",
    "\n",
    "print(f'Experiment saved in {experiment_path}')"
   ]
  },
  {
   "cell_type": "markdown",
   "id": "7febdc7b",
   "metadata": {},
   "source": [
    "## Load Files"
   ]
  },
  {
   "attachments": {},
   "cell_type": "markdown",
   "id": "204c3971",
   "metadata": {},
   "source": [
    "The datafiles can either be generate yourself by running [0_preprocess_data.ipynb](0_preprocess_data.ipynb), or by downloading our pre-generated files using the commands:\n",
    "\n",
    "```\n",
    "wget -nc 'https://cleanlab-public.s3.amazonaws.com/ActiveLearning/Benchmark/Cifar10h/cifar10h.tar.gz'\n",
    "tar -xf cifar10h.tar.gz data/\n",
    "```"
   ]
  },
  {
   "cell_type": "markdown",
   "id": "4c7bf1dc",
   "metadata": {},
   "source": [
    "## Train Models with Different Evaluation Metric"
   ]
  },
  {
   "cell_type": "code",
   "execution_count": null,
   "id": "225d88d9",
   "metadata": {},
   "outputs": [],
   "source": [
    "# single model methods \n",
    "\n",
    "entropy()\n",
    "random()\n",
    "good_random()\n",
    "uncertainty()\n",
    "crowdlab()"
   ]
  },
  {
   "cell_type": "code",
   "execution_count": null,
   "id": "25a6886c",
   "metadata": {},
   "outputs": [],
   "source": [
    "# ensemble methods \n",
    "\n",
    "disagreement()\n",
    "crowdlab_ensemble()"
   ]
  }
 ],
 "metadata": {
  "kernelspec": {
   "display_name": "Python 3.10.8 64-bit",
   "language": "python",
   "name": "python3"
  },
  "language_info": {
   "codemirror_mode": {
    "name": "ipython",
    "version": 3
   },
   "file_extension": ".py",
   "mimetype": "text/x-python",
   "name": "python",
   "nbconvert_exporter": "python",
   "pygments_lexer": "ipython3",
   "version": "3.10.8 (main, Oct 21 2022, 22:22:30) [Clang 14.0.0 (clang-1400.0.29.202)]"
  },
  "vscode": {
   "interpreter": {
    "hash": "b0fa6594d8f4cbf19f97940f81e996739fb7646882a419484c72d19e05852a7e"
   }
  }
 },
 "nbformat": 4,
 "nbformat_minor": 5
}
