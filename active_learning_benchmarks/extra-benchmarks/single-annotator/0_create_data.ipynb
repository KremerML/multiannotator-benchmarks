{
 "cells": [
  {
   "cell_type": "code",
   "execution_count": 1,
   "metadata": {},
   "outputs": [],
   "source": [
    "import numpy as np\n",
    "import pandas as pd\n",
    "from scipy.io import arff\n",
    "\n",
    "from sklearn.model_selection import train_test_split\n",
    "from cleanlab.benchmarking.noise_generation import (\n",
    "    generate_noise_matrix_from_trace,\n",
    "    generate_noisy_labels,\n",
    ")\n",
    "from cleanlab.multiannotator import get_majority_vote_label"
   ]
  },
  {
   "cell_type": "code",
   "execution_count": 2,
   "metadata": {},
   "outputs": [],
   "source": [
    "SEED = 0\n",
    "noise_rate = 0.6"
   ]
  },
  {
   "cell_type": "code",
   "execution_count": 3,
   "metadata": {},
   "outputs": [],
   "source": [
    "def get_synthetic_labels(\n",
    "    true_labels,\n",
    "    noise_rate=0.8,\n",
    "):\n",
    "    n = len(true_labels)\n",
    "    m = len(np.unique(true_labels))  # num classes\n",
    "    py = np.bincount(true_labels) / float(len(true_labels))\n",
    "\n",
    "    noise_matrix = generate_noise_matrix_from_trace(\n",
    "        m,\n",
    "        trace=noise_rate * m,\n",
    "        py=py,\n",
    "        valid_noise_matrix=True,\n",
    "        seed=SEED,\n",
    "    )\n",
    "\n",
    "    labels = generate_noisy_labels(true_labels, noise_matrix)\n",
    "\n",
    "    return labels"
   ]
  },
  {
   "cell_type": "code",
   "execution_count": 4,
   "metadata": {},
   "outputs": [
    {
     "name": "stdout",
     "output_type": "stream",
     "text": [
      "base single label accuracy = 0.614\n",
      "base extra single label accuracy = 0.606\n"
     ]
    }
   ],
   "source": [
    "wallrobot = pd.read_csv(\"data/wall_robot_subset.csv\", index_col=0)\n",
    "num_annotators = 30\n",
    "\n",
    "X = wallrobot.loc[:, wallrobot.columns != \"class\"].to_numpy()\n",
    "y = wallrobot[\"class\"].to_numpy()\n",
    "\n",
    "X_train, X_test, y_train, y_test = train_test_split(\n",
    "    X, y, test_size=1 / 3, random_state=SEED\n",
    ")\n",
    "\n",
    "noisy_labels = get_synthetic_labels(y_train, noise_rate=noise_rate)\n",
    "extra_noisy_labels = get_synthetic_labels(y_train, noise_rate=noise_rate)\n",
    "\n",
    "(\n",
    "    X_labeled,\n",
    "    X_unlabeled,\n",
    "    y_labeled,\n",
    "    y_unlabeled,\n",
    "    noisy_labeled,\n",
    "    noisy_unlabeled,\n",
    ") = train_test_split(\n",
    "    X_train,\n",
    "    y_train,\n",
    "    noisy_labels,\n",
    "    test_size=0.75,\n",
    "    random_state=SEED,\n",
    ")\n",
    "\n",
    "accuracy = np.mean(noisy_labeled == y_labeled)\n",
    "print(f\"base single label accuracy = {accuracy}\")\n",
    "\n",
    "accuracy = np.mean(noisy_unlabeled == y_unlabeled)\n",
    "print(f\"base extra single label accuracy = {accuracy}\")"
   ]
  },
  {
   "cell_type": "code",
   "execution_count": 5,
   "metadata": {},
   "outputs": [],
   "source": [
    "# np.save(\"data/X_labeled.npy\", X_labeled)\n",
    "# np.save(\"data/X_unlabeled.npy\", X_unlabeled)\n",
    "# np.save(\"data/X_test.npy\", X_test)\n",
    "\n",
    "# np.save(\"data/true_labels_labeled.npy\", y_labeled)\n",
    "# np.save(\"data/true_labels_unlabeled.npy\", y_unlabeled)\n",
    "# np.save(\"data/true_labels_test.npy\", y_test)\n",
    "\n",
    "# np.save(\"data/noisy_labels_labeled.npy\", noisy_labeled)\n",
    "# np.save(\"data/noisy_labels_unlabeled.npy\", noisy_unlabeled)"
   ]
  }
 ],
 "metadata": {
  "kernelspec": {
   "display_name": "cl-dev-jupyter",
   "language": "python",
   "name": "cl-dev-jupyter"
  },
  "language_info": {
   "codemirror_mode": {
    "name": "ipython",
    "version": 3
   },
   "file_extension": ".py",
   "mimetype": "text/x-python",
   "name": "python",
   "nbconvert_exporter": "python",
   "pygments_lexer": "ipython3",
   "version": "3.10.8"
  },
  "orig_nbformat": 4,
  "vscode": {
   "interpreter": {
    "hash": "00885e89789f58e60dbba52a405dc834aaf92411914fde0d391f9b48289a0610"
   }
  }
 },
 "nbformat": 4,
 "nbformat_minor": 2
}
