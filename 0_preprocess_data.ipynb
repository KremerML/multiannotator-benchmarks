{
 "cells": [
  {
   "cell_type": "markdown",
   "id": "7f4fd5d3",
   "metadata": {},
   "source": [
    "# Preprocess cifar10h data from github"
   ]
  },
  {
   "cell_type": "markdown",
   "id": "aba15dc7",
   "metadata": {},
   "source": [
    "As our multiannotator dataset, we use a subset of [cifar-10h](https://github.com/jcpeterson/cifar-10h) (Peterson et al., 2019) multiannotator labeling dataset which is a collection of 2751 annotators each labeling 200 examples for all 10,000 test images of the original [cifar10](https://www.cs.toronto.edu/~kriz/cifar.html).\n",
    "\n",
    "The code below shows an example of how to reach that subset.\n",
    "\n",
    "Before running this notebook, make sure cifar10h dataset is downloaded locally:\n",
    "1. Make new subfolder ``mkdir data``\n",
    "2. Download cifar-10h dataset ``cd data && git clone https://github.com/jcpeterson/cifar-10h.git``\n",
    "3. Clean directory ``cd cifar-10h && mv data/* . && rm -rf data``\n",
    "4. Unzip data ``unzip cifar10h-raw && rm cifar10h-raw.zip``"
   ]
  },
  {
   "cell_type": "code",
   "execution_count": 1,
   "id": "3b226782",
   "metadata": {},
   "outputs": [],
   "source": [
    "import os\n",
    "import numpy as np\n",
    "import pandas as pd\n",
    "from cleanlab.multiannotator import get_consensus_label\n",
    "from utils.eval import get_annotator_mask, get_labels_error_mask, plt_annotator_accuracy\n",
    "import seaborn as sns\n",
    "\n",
    "path = os.getcwd()"
   ]
  },
  {
   "cell_type": "code",
   "execution_count": 2,
   "id": "29e7c956",
   "metadata": {},
   "outputs": [],
   "source": [
    "# If this line throws an error, make sure you correctly downloaded and unzipped cifar10h-raw data\n",
    "pred_probs_multiannotator = np.load('./data/cifar-10h/cifar10h-probs.npy')\n",
    "c10h_df = pd.read_csv('./data/cifar-10h/cifar10h-raw.csv')\n",
    "c10h_df = c10h_df[c10h_df.cifar10_test_test_idx != -99999] # dropping all attention check trials"
   ]
  },
  {
   "cell_type": "markdown",
   "id": "c4fe25d4",
   "metadata": {},
   "source": [
    "#### Creates dataset into following arrays:\n",
    "- ``c10h_labels: (N,M)``\n",
    "- ``c10h_true_labels: (K=10,000,)``\n",
    "- ``c10h_true_images: (K=10,000,)``"
   ]
  },
  {
   "cell_type": "code",
   "execution_count": 3,
   "id": "2e959414",
   "metadata": {},
   "outputs": [],
   "source": [
    "# initialize arrays\n",
    "c10h_num_datapoints = c10h_df['cifar10_test_test_idx'].max() + 1\n",
    "c10h_num_annotators = c10h_df['annotator_id'].max() + 1\n",
    "\n",
    "c10h_labels = np.full((c10h_num_datapoints, c10h_num_annotators), np.nan) # all annotator labels np.full([height, width, 9], np.nan)\n",
    "\n",
    "c10h_true_labels = np.zeros((c10h_num_datapoints, ))\n",
    "c10h_true_images = np.empty((c10h_num_datapoints, ) ,dtype=object)"
   ]
  },
  {
   "cell_type": "code",
   "execution_count": 4,
   "id": "854caccd",
   "metadata": {},
   "outputs": [],
   "source": [
    "# get annotator labels as numpy array (N=labels, M=annotators)\n",
    "for annotator_id in range(c10h_num_annotators):\n",
    "    adf = c10h_df[c10h_df.annotator_id == annotator_id] # 200 annotations per annotator\n",
    "    annotations_idx = adf['cifar10_test_test_idx'].values\n",
    "    annotations = adf['chosen_label'].values\n",
    "    errors = adf['correct_guess'].values\n",
    "    \n",
    "    c10h_labels[annotations_idx, annotator_id] = annotations\n",
    "\n",
    "# get true labels as numpy array (N = true labels,)\n",
    "idx_to_label = \\\n",
    "[(idx,label,image) for idx,label,image in zip(c10h_df['cifar10_test_test_idx'],c10h_df['true_label'],c10h_df['image_filename'])]\n",
    "idx_to_label = list(set(idx_to_label))\n",
    "\n",
    "idx = [idx_to_label[0] for idx_to_label in idx_to_label]\n",
    "true_label = [idx_to_label[1] for idx_to_label in idx_to_label]\n",
    "htrue_image = [idx_to_label[2] for idx_to_label in idx_to_label]\n",
    "\n",
    "c10h_true_labels[idx] = true_label\n",
    "c10h_true_images[idx] = htrue_image"
   ]
  },
  {
   "cell_type": "code",
   "execution_count": 5,
   "id": "57c63964",
   "metadata": {},
   "outputs": [
    {
     "data": {
      "image/png": "[encoded data removed]",
      "text/plain": [
       "<Figure size 432x288 with 1 Axes>"
      ]
     },
     "metadata": {
      "needs_background": "light"
     },
     "output_type": "display_data"
    },
    {
     "data": {
      "text/html": [
       "<div>\n",
       "<style scoped>\n",
       "    .dataframe tbody tr th:only-of-type {\n",
       "        vertical-align: middle;\n",
       "    }\n",
       "\n",
       "    .dataframe tbody tr th {\n",
       "        vertical-align: top;\n",
       "    }\n",
       "\n",
       "    .dataframe thead th {\n",
       "        text-align: right;\n",
       "    }\n",
       "</style>\n",
       "<table border=\"1\" class=\"dataframe\">\n",
       "  <thead>\n",
       "    <tr style=\"text-align: right;\">\n",
       "      <th></th>\n",
       "      <th>score</th>\n",
       "    </tr>\n",
       "  </thead>\n",
       "  <tbody>\n",
       "    <tr>\n",
       "      <th>0</th>\n",
       "      <td>0.920</td>\n",
       "    </tr>\n",
       "    <tr>\n",
       "      <th>1</th>\n",
       "      <td>0.955</td>\n",
       "    </tr>\n",
       "    <tr>\n",
       "      <th>2</th>\n",
       "      <td>0.955</td>\n",
       "    </tr>\n",
       "    <tr>\n",
       "      <th>3</th>\n",
       "      <td>0.945</td>\n",
       "    </tr>\n",
       "    <tr>\n",
       "      <th>4</th>\n",
       "      <td>0.960</td>\n",
       "    </tr>\n",
       "  </tbody>\n",
       "</table>\n",
       "</div>"
      ],
      "text/plain": [
       "   score\n",
       "0  0.920\n",
       "1  0.955\n",
       "2  0.955\n",
       "3  0.945\n",
       "4  0.960"
      ]
     },
     "execution_count": 5,
     "metadata": {},
     "output_type": "execute_result"
    }
   ],
   "source": [
    "c10h_annotator_mask = get_annotator_mask(c10h_labels)\n",
    "c10h_labels_error_mask = get_labels_error_mask(c10h_labels, c10h_true_labels)\n",
    "plt_annotator_accuracy(c10h_labels_error_mask, c10h_annotator_mask).head()"
   ]
  },
  {
   "cell_type": "markdown",
   "id": "923c9fc2",
   "metadata": {},
   "source": [
    "# Drop datapoints by selecting worst annotators"
   ]
  },
  {
   "cell_type": "code",
   "execution_count": 6,
   "id": "49708f36",
   "metadata": {},
   "outputs": [],
   "source": [
    "# Returns sample labels/error_mask/annotator_mask where x_drop, y_drop are idxs that are dropped\n",
    "def get_sample_labels(x_drop, y_drop, labels, labels_error_mask, annotator_mask):\n",
    "    s_annotator_mask = annotator_mask.copy()\n",
    "    s_annotator_mask[(x_drop,y_drop)] = 0\n",
    "    s_labels_error_mask = s_annotator_mask & labels_error_mask\n",
    "    s_labels = labels.copy()\n",
    "    np.copyto(s_labels, np.nan, where=(s_annotator_mask==0)) \n",
    "    print('Total idxs dropped: ', annotator_mask.sum() - s_annotator_mask.sum())\n",
    "    return s_labels, s_labels_error_mask, s_annotator_mask\n",
    "\n",
    "# Returns a list of labeled indices to drop (random length per row)\n",
    "def get_random_drop_per_row(c10h_annotator_mask):\n",
    "    x,y = np.where(c10h_annotator_mask == 1)\n",
    "    idx_df = pd.DataFrame(zip(x,y),columns=['x','y'])\n",
    "    for x_idx in range(idx_df['x'].max()+1):\n",
    "        num_drop = np.random.randint(1, len(idx_df[idx_df['x'] == x_idx])+1)\n",
    "        idx_df = idx_df.drop(idx_df[idx_df['x'] == x_idx].sample(num_drop).index)\n",
    "    x_drop = idx_df['x'].values\n",
    "    y_drop = idx_df['y'].values\n",
    "    return x_drop, y_drop\n",
    "\n",
    "# Returns a list of labeled indices to drop \n",
    "# (Randomly drop until <= max_annotations per example. Try to minimize number of distinct annotators)\n",
    "def get_random_drop_per_row_min_annotators(c10h_annotator_mask, max_annotations = 5):\n",
    "    x,y = np.where(c10h_annotator_mask == 1)\n",
    "    xy = set([(x_idx,y_idx) for x_idx,y_idx in zip(x,y)])\n",
    "    idx_df = pd.DataFrame(zip(x,y),columns=['x','y'])\n",
    "    idx_keep = []\n",
    "    selected_annotators = set()\n",
    "    for x_idx in range(idx_df['x'].max()+1):\n",
    "        Y = idx_df[idx_df['x'] == x_idx]['y']\n",
    "        seen_annotators = set(Y).intersection(selected_annotators)\n",
    "        if len(seen_annotators) < max_annotations: # We need to randomly select more annotators to greedy add\n",
    "            num_to_find = max_annotations - len(seen_annotators)\n",
    "            y_keep = set(np.random.choice(list(set(Y).difference(seen_annotators)), num_to_find, replace=False))\n",
    "            selected_annotators = selected_annotators.union(y_keep)\n",
    "            y_keep = seen_annotators.union(y_keep)\n",
    "        else: # We have enough annotators and need to randomly select annotations out of the guys we have\n",
    "            y_keep = np.random.choice(list(seen_annotators), max_annotations,replace=False)\n",
    "        xy_keep = [(x_idx,y) for y in y_keep]\n",
    "        idx_keep.extend(xy_keep)\n",
    "    xy = xy.difference(set(idx_keep))\n",
    "    x_drop = [xy_idx[0] for xy_idx in xy]\n",
    "    y_drop = [xy_idx[1] for xy_idx in xy]\n",
    "    return x_drop, y_drop\n",
    "\n",
    "def get_worst_annotators(c10h_annotator_mask, annotator_idxs):\n",
    "    annotations_per_example = np.zeros(c10h_annotator_mask.shape[0])\n",
    "    annotations_per_annotator = np.zeros(c10h_annotator_mask.shape[1]) # dictionary of distinct examples\n",
    "    selected_annotators = set()\n",
    "    \n",
    "    annotator_mask = np.zeros_like(c10h_annotator_mask)\n",
    "    # add first x annotators\n",
    "    num_initial_annotators = 25\n",
    "    for idx in annotator_idxs[:num_initial_annotators]:\n",
    "        x = np.where(c10h_annotator_mask[:,idx] == 1)[0]\n",
    "        annotations_per_example[x] += 1\n",
    "        annotations_per_annotator[idx] = len(x)\n",
    "        selected_annotators.add(idx)\n",
    "        annotator_mask[x, idx] = 1\n",
    "    \n",
    "    # only add other annotators if they share overlap with first x\n",
    "    for idx in annotator_idxs[num_initial_annotators:]:\n",
    "        if annotations_per_example.min() > 0:\n",
    "            print('all examples have at least 1 annotator')\n",
    "            break # test every single ex has at least 1 annotator\n",
    "        \n",
    "        x = np.where(c10h_annotator_mask[:,idx] == 1)[0] # annotator annotations\n",
    "        \n",
    "        # only add annotator if they overlap with current annotations\n",
    "        if annotations_per_example[x].sum() > len(x):\n",
    "            annotations_per_example[x] += 1\n",
    "            annotations_per_annotator[idx] = len(x)\n",
    "            selected_annotators.add(idx)\n",
    "            annotator_mask[x, idx] = 1\n",
    "    \n",
    "    for ex in range(annotator_mask.shape[0]):\n",
    "        if annotations_per_example[ex] < 3: # ignore dropping when there are very little annotations\n",
    "            continue\n",
    "\n",
    "        annotators = np.where(annotator_mask[ex] == 1)[0] # annotators for example\n",
    "        drop_y = np.random.choice(annotators, len(annotators)-1, replace=False)\n",
    "\n",
    "        for y in drop_y:\n",
    "            if np.random.uniform() > 0.2:\n",
    "                x = np.where(annotator_mask[:,y] == 1)[0]  # annotations for annotator y for all examples\n",
    "                x = np.setdiff1d(x,np.array([ex])) # annotations for annotator y for all examples minus curent example\n",
    "                if annotations_per_example[x].max() > 2: # number of total annotations by our annotator\n",
    "                    annotator_mask[ex][y] = 0\n",
    "                    annotations_per_annotator[y] -= 1\n",
    "                    annotations_per_example[ex] -= 1\n",
    "\n",
    "    x_drop, y_drop = np.where(annotator_mask == 0)\n",
    "    \n",
    "    print('num_worst_annotators_selected', len(selected_annotators))\n",
    "    return x_drop, y_drop"
   ]
  },
  {
   "cell_type": "code",
   "execution_count": 7,
   "id": "0491d2a4",
   "metadata": {},
   "outputs": [
    {
     "data": {
      "image/png": "[encoded data removed]",
      "text/plain": [
       "<Figure size 432x288 with 1 Axes>"
      ]
     },
     "metadata": {
      "needs_background": "light"
     },
     "output_type": "display_data"
    },
    {
     "name": "stdout",
     "output_type": "stream",
     "text": [
      "all examples have at least 1 annotator\n",
      "num_worst_annotators_selected 511\n",
      "Total idxs dropped:  485611\n",
      "Make sure 12 <= max_annotations and 1 > 0: \n",
      "(10000, 511) (10000, 511)\n"
     ]
    },
    {
     "data": {
      "image/png": "[encoded data removed]",
      "text/plain": [
       "<Figure size 432x288 with 1 Axes>"
      ]
     },
     "metadata": {
      "needs_background": "light"
     },
     "output_type": "display_data"
    },
    {
     "name": "stdout",
     "output_type": "stream",
     "text": [
      "Consensus label accuracy:  0.9379\n"
     ]
    }
   ],
   "source": [
    "# get annotator accuracy\n",
    "annotator_accuracy_df = plt_annotator_accuracy(c10h_labels_error_mask, c10h_annotator_mask).sort_values(by='score')\n",
    "annotator_idxs = annotator_accuracy_df.index.values.tolist()\n",
    "\n",
    "x_drop, y_drop = get_worst_annotators(c10h_annotator_mask, annotator_idxs)\n",
    "c10h_labels, c10h_labels_error_mask, c10h_annotator_mask = \\\n",
    "                    get_sample_labels(x_drop, y_drop, c10h_labels, c10h_labels_error_mask, c10h_annotator_mask)\n",
    "\n",
    "print(f'Make sure {c10h_annotator_mask.sum(axis=1).max()} <= max_annotations and { c10h_annotator_mask.sum(axis=1).min()} > 0: ')\n",
    "\n",
    "# drop all empty annotators\n",
    "drop_axis = c10h_labels.copy()\n",
    "c10h_labels = c10h_labels[:, ~np.isnan(drop_axis).all(axis=0)]\n",
    "c10h_labels_error_mask = c10h_labels_error_mask[:, ~np.isnan(drop_axis).all(axis=0)]\n",
    "c10h_annotator_mask = c10h_annotator_mask[:, ~np.isnan(drop_axis).all(axis=0)]\n",
    "print(c10h_labels.shape, c10h_annotator_mask.shape)\n",
    "\n",
    "# get new annotator accuracy\n",
    "annotator_accuracy_df = plt_annotator_accuracy(c10h_labels_error_mask,  c10h_annotator_mask).sort_values(by='score')\n",
    "annotator_accuracy_df.describe()\n",
    "consensus_labels = get_consensus_label(c10h_labels, pred_probs=None)\n",
    "print('Consensus label accuracy: ', (c10h_true_labels == consensus_labels).sum() / 10000)"
   ]
  },
  {
   "cell_type": "code",
   "execution_count": 8,
   "id": "f5ec8d33",
   "metadata": {},
   "outputs": [],
   "source": [
    "# Check if dataset creation conditions are met\n",
    "for col in range(c10h_annotator_mask.shape[1]):\n",
    "    annotator = np.where(c10h_annotator_mask[:,col] == 1)[0]\n",
    "    intersects = False\n",
    "    for j in range(c10h_annotator_mask.shape[1]):\n",
    "        if j == col:\n",
    "            continue\n",
    "        annotator2 = np.where(c10h_annotator_mask[:,j] == 1)[0]\n",
    "        if len(np.intersect1d(annotator, annotator2)) > 0:\n",
    "            intersects = True\n",
    "    if not intersects:\n",
    "        print(f'annotator {col} does not intersect with any other annotator')"
   ]
  },
  {
   "cell_type": "code",
   "execution_count": 9,
   "id": "70b2bdf3",
   "metadata": {},
   "outputs": [
    {
     "name": "stdout",
     "output_type": "stream",
     "text": [
      "2     2929\n",
      "3     2431\n",
      "1     1716\n",
      "4     1614\n",
      "5      830\n",
      "6      307\n",
      "7      127\n",
      "8       34\n",
      "9        9\n",
      "10       2\n",
      "12       1\n",
      "dtype: int64\n"
     ]
    },
    {
     "data": {
      "text/plain": [
       "array([[<AxesSubplot:title={'center':'0'}>]], dtype=object)"
      ]
     },
     "execution_count": 9,
     "metadata": {},
     "output_type": "execute_result"
    },
    {
     "data": {
      "image/png": "[encoded data removed]",
      "text/plain": [
       "<Figure size 432x288 with 1 Axes>"
      ]
     },
     "metadata": {
      "needs_background": "light"
     },
     "output_type": "display_data"
    }
   ],
   "source": [
    "# Get stats\n",
    "print(pd.DataFrame(c10h_annotator_mask.sum(axis=1)).value_counts())\n",
    "pd.DataFrame(c10h_annotator_mask.sum(axis=0)).hist(bins=50)"
   ]
  },
  {
   "cell_type": "code",
   "execution_count": 10,
   "id": "236c6d3c",
   "metadata": {},
   "outputs": [
    {
     "name": "stdout",
     "output_type": "stream",
     "text": [
      "(511, 511)\n"
     ]
    },
    {
     "data": {
      "image/png": "[encoded data removed]",
      "text/plain": [
       "<Figure size 432x288 with 2 Axes>"
      ]
     },
     "metadata": {
      "needs_background": "light"
     },
     "output_type": "display_data"
    }
   ],
   "source": [
    "# Check annotator similarity\n",
    "similarity = np.matmul(c10h_annotator_mask.T,c10h_annotator_mask)\n",
    "np.fill_diagonal(similarity, 0)\n",
    "print(similarity.shape)\n",
    "ax = sns.heatmap(similarity, square=True)"
   ]
  },
  {
   "cell_type": "code",
   "execution_count": 11,
   "id": "ec9e3280",
   "metadata": {},
   "outputs": [],
   "source": [
    "# Save labels and true images/labels as npy\n",
    "np.save('./data/benchmark_data/c10h_labels', c10h_labels)\n",
    "np.save('./data/benchmark_data/c10h_true_labels', c10h_true_labels)\n",
    "np.save('./data/benchmark_data/c10h_true_images', c10h_true_images)"
   ]
  },
  {
   "cell_type": "code",
   "execution_count": 12,
   "id": "dcce99e5",
   "metadata": {},
   "outputs": [],
   "source": [
    "# Save labels as csv with image paths\n",
    "mini_df = c10h_df[['image_filename','true_category','cifar10_test_test_idx']].drop_duplicates()\n",
    "image_locs = [path + \n",
    "              '/data/cifar10/test/' +\n",
    "              mini_df[mini_df['image_filename'] == c10h_true_images[i]]['true_category'].item() +\n",
    "              '/test_batch_index_' +\n",
    "              str(mini_df[mini_df['image_filename'] == c10h_true_images[i]]['cifar10_test_test_idx'].item()).zfill(4) +\n",
    "              '.png'\n",
    "              for i in range(len(c10h_true_images))]\n",
    "consensus_df = pd.DataFrame(zip(image_locs, consensus_labels), columns=['image', 'label'])\n",
    "consensus_df.to_csv('./data/benchmark_data/cifar10_test_consensus_dataset.csv', index=False)"
   ]
  },
  {
   "cell_type": "markdown",
   "id": "9201596e",
   "metadata": {},
   "source": [
    "#### Cifar-10h dataset attribution\n",
    "Peterson, J.*, Battleday, R.*, Griffiths, T., & Russakovsky, O. (2019).\n",
    "    Human uncertainty makes classification more robust.\n",
    "    In Proceedings of the IEEE International Conference on Computer Vision."
   ]
  }
 ],
 "metadata": {
  "kernelspec": {
   "display_name": "Python 3 (ipykernel)",
   "language": "python",
   "name": "python3"
  },
  "language_info": {
   "codemirror_mode": {
    "name": "ipython",
    "version": 3
   },
   "file_extension": ".py",
   "mimetype": "text/x-python",
   "name": "python",
   "nbconvert_exporter": "python",
   "pygments_lexer": "ipython3",
   "version": "3.8.10"
  }
 },
 "nbformat": 4,
 "nbformat_minor": 5
}
