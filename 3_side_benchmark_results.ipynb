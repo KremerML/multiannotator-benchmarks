{
 "cells": [
  {
   "cell_type": "markdown",
   "id": "a5208c51",
   "metadata": {},
   "source": [
    "# Report Side Benchmarks\n",
    "- Annotator vs Model Accuracy\n",
    "- Annotator quality scores\n",
    "- Annotator Agreement Consensus vs. Label Accuracy\n",
    "\n",
    "TODO: Add visualization code?"
   ]
  },
  {
   "cell_type": "code",
   "execution_count": null,
   "id": "5ddd05d6",
   "metadata": {
    "scrolled": true
   },
   "outputs": [],
   "source": [
    "import numpy as np\n",
    "from IPython.display import display # pretty display\n",
    "from utils.eval import (get_annotator_mask, \n",
    "                        get_labels_error_mask,\n",
    "                        get_model_vs_consensus_accuracy,\n",
    "                        plt_annotator_accuracy, \n",
    "                        plt_labels_multiannotator)\n",
    "from cleanlab.multiannotator import get_majority_vote_label"
   ]
  },
  {
   "cell_type": "code",
   "execution_count": null,
   "id": "7a931f0e",
   "metadata": {
    "scrolled": true
   },
   "outputs": [],
   "source": [
    "!wget -nc \"https://cleanlab-public.s3.amazonaws.com/Multiannotator/cifar-10h/benchmark_data.tar.gz\" \n",
    "!tar -xf benchmark_data.tar.gz benchmark_data/\n",
    "!mkdir benchmark_results"
   ]
  },
  {
   "cell_type": "code",
   "execution_count": null,
   "id": "283eda7f",
   "metadata": {
    "scrolled": true
   },
   "outputs": [],
   "source": [
    "def load_data(dataset, model):\n",
    "    multiannotator_labels = np.load(f\"benchmark_data/{dataset}/{model}/annotator_labels.npy\")\n",
    "    true_labels = np.load(f\"benchmark_data/{dataset}/{model}/true_labels.npy\")\n",
    "    pred_probs = np.load(f\"benchmark_data/{dataset}/{model}/pred_probs.npy\")\n",
    "    \n",
    "    return multiannotator_labels, true_labels, pred_probs"
   ]
  },
  {
   "cell_type": "code",
   "execution_count": null,
   "id": "9ec101cd",
   "metadata": {
    "scrolled": true
   },
   "outputs": [],
   "source": [
    "model_names = [\"resnet18\", \"swin\", \"truelabels\"]\n",
    "datasets = [\"worst_annotators\", \"uniform_1_5\", \"complete\"]"
   ]
  },
  {
   "cell_type": "code",
   "execution_count": null,
   "id": "90230e90",
   "metadata": {
    "scrolled": false
   },
   "outputs": [],
   "source": [
    "for dataset in datasets:\n",
    "    print('-'*80)\n",
    "    print(f'- DATASET {dataset}')\n",
    "    \n",
    "    multiannotator_labels = None # Same for all models of specific dataset\n",
    "    true_labels = None # Same for all models of speciic dataset\n",
    "    \n",
    "    for model_name in model_names:\n",
    "        print(f'- MODEL {model_name}')\n",
    "        multiannotator_labels, true_labels, pred_probs = load_data(dataset, model_name)\n",
    "        consensus_labels = get_majority_vote_label(multiannotator_labels, pred_probs=None)\n",
    "\n",
    "        print('--- [1] Annotator vs Model accuracy ---')\n",
    "        # Report how much the consensus labels and model predictions differ from true labels\n",
    "        df = get_model_vs_consensus_accuracy(pred_probs, consensus_labels, true_labels)\n",
    "        display(df)\n",
    "    \n",
    "    print('- MODEL AGNOSTIC\\n')\n",
    "    annotator_mask = get_annotator_mask(multiannotator_labels)\n",
    "    labels_error_mask = get_labels_error_mask(multiannotator_labels, true_labels)\n",
    "        \n",
    "    print('--- [2] Distribution of individual annotator accuracy vs ground truth ---')\n",
    "    plt_title = f\"{dataset}_annotator_accuracy_vs_gt_plot.pdf\"\n",
    "    annotator_accuracy_df = plt_annotator_accuracy(labels_error_mask, annotator_mask, plot=True, fig_title=plt_title)\n",
    "    display(annotator_accuracy_df.describe())\n",
    "\n",
    "    print('--- [3] Annotator Agreement with Consensus vs. Label Accuracy ---')\n",
    "    # Plots the distribution of annotator agreement for correct/incorrect labels\n",
    "    plt_title = f\"{dataset}_annotator_agreement_with_consensus_plot.pdf\"\n",
    "    plt_labels_multiannotator(multiannotator_labels, consensus_labels, true_labels, fig_title=plt_title)"
   ]
  }
 ],
 "metadata": {
  "kernelspec": {
   "display_name": "Python 3 (ipykernel)",
   "language": "python",
   "name": "python3"
  },
  "language_info": {
   "codemirror_mode": {
    "name": "ipython",
    "version": 3
   },
   "file_extension": ".py",
   "mimetype": "text/x-python",
   "name": "python",
   "nbconvert_exporter": "python",
   "pygments_lexer": "ipython3",
   "version": "3.8.10"
  }
 },
 "nbformat": 4,
 "nbformat_minor": 5
}
